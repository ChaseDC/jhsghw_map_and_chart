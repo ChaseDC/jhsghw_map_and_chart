{
 "cells": [
  {
   "cell_type": "code",
   "execution_count": 14,
   "metadata": {
    "collapsed": false
   },
   "outputs": [
    {
     "name": "stdout",
     "output_type": "stream",
     "text": [
      "here are 139 pictures\n"
     ]
    }
   ],
   "source": [
    "import lxml.html\n",
    "\"\"\"take table from jhsgw search results, which are written in some annoying javascript, \n",
    "so I had to just copy the tables from the HTML. Then filter for results with pictures\n",
    "   \"\"\"\n",
    "def PicFilter(table):\n",
    "    splittable = table.split('</tr>')\n",
    "    ftable = [x for x in splittable if 'Archive Record' not in x]\n",
    "    filtered_table = [x for x in ftable if 'Photo Record' not in x]\n",
    "    tree = ','.join(filtered_table)\n",
    "    etree = (lxml.html.document_fromstring(tree))\n",
    "    r = etree.xpath('//a/@href')\n",
    "    links = [x for x in r if \"id=\" in x]\n",
    "    print(\"here are \" + str(len(links)) + \" pictures\") \n",
    "    for x in links:\n",
    "        yield(x.replace('?request=record;id=', \\\n",
    "                    'http://jhsgw.pastperfect-online.com/31288cgi/mweb.exe?request=record;id='))\n",
    "    \n",
    "#tableNE1 = '''<table class=\"results\" cellspacing=\"0\" cellpadding=\"0\"><tbody><tr style=\"background-color:#f1f3f5\"><td style=\"text-align:center;vertical-align:middle\"><span class=\"resultsnote\"><b>Archive Record</b></span></td><td style=\"text-align:left\"><a href=\"?request=record;id=2CAA9515-C192-4438-8C71-641229205508;type=301\">2010.6.1</a>, Paper, Letterhead, Kolker Poultry Company Collection<i> -- Found in <b>Scope &amp; Content</b>: ... Wholesale Poultry and Eggs/1251 Fourth Street, <span class=\"hilite\">NE</span>/Union Market.</i></td></tr><tr><td style=\"text-align:center;vertical-align:middle\"><span class=\"resultsnote\"><b>Archive Record</b></span></td><td style=\"text-align:left\"><a href=\"?request=record;id=B0F74535-965C-4073-96D3-454093444569;type=301\">2010.6.3</a>, Paper, letterhead, Kolker Poultry Company Collection<i> -- Found in <b>Scope &amp; Content</b>: ... of Quality Poultry/1251 Fourth Street, <span class=\"hilite\">NE</span>/Union Market/Washington DC.  Red image of hen and rooster in upper left corner.</i></td></tr><tr style=\"background-color:#f1f3f5\"><td style=\"text-align:center;vertical-align:middle\"><a href=\"javascript:var x=window.open('/31288cgi/mweb.exe?request=image&amp;hex=1984071-2.jpg','x19840712jpg','menubar,scrollbars,resizable,width=680,height=680')\"><img src=\"/31288images/001/thumbs/1984071-2.jpg\" style=\"width:75px;height:53px\" alt=\"Image of 1984.07.1, Print, photographic\"></a></td><td style=\"text-align:left\"><a href=\"?request=record;id=774A1725-03E0-4585-8644-638492232529;type=102\">1984.07.1</a>, Print, photographic, Ezras Israel Congregation Collection<i> -- Found in <b>Description</b>: ... of Ezras Israel synagogue at 8th and I Street, <span class=\"hilite\">NE</span>.  Girl seated near left side with long curls is Augusta Dessoff (nee Silverman).</i></td></tr><tr><td style=\"text-align:center;vertical-align:middle\"><a href=\"javascript:var x=window.open('/31288cgi/mweb.exe?request=image&amp;hex=19871003.jpg','x19871003jpg','menubar,scrollbars,resizable,width=680,height=680')\"><img src=\"/31288images/001/thumbs/19871003.jpg\" style=\"width:75px;height:60px\" alt=\"Image of 1987.10.03, Print, Photographic\"></a></td><td style=\"text-align:left\"><a href=\"?request=record;id=6B8A33DF-22BB-49B2-BF5E-219301176789;type=102\">1987.10.03</a>, Print, Photographic<i> -- Found in <b>Description</b>: Asher Pomerantz in front of store on Kramer St, <span class=\"hilite\">NE</span>, 1921.  Family lived behind store.</i></td></tr><tr style=\"background-color:#f1f3f5\"><td style=\"text-align:center;vertical-align:middle\"><a href=\"javascript:var x=window.open('/31288cgi/mweb.exe?request=image&amp;hex=1987111.JPG','x1987111JPG','menubar,scrollbars,resizable,width=680,height=680')\"><img src=\"/31288images/002/thumbs/1987111.JPG\" style=\"width:75px;height:60px\" alt=\"Image of 1987.11.1, Print, Photographic\"></a></td><td style=\"text-align:left\"><a href=\"?request=record;id=7A68C254-7B97-46D5-9E2A-217340996450;type=102\">1987.11.1</a>, Print, Photographic<i> -- Found in <b>Description</b>: ... second-and furniture store at 600 H Street, <span class=\"hilite\">NE</span>.</i></td></tr><tr><td style=\"text-align:center;vertical-align:middle\"><span class=\"resultsnote\"><b>Photo Record</b></span></td><td style=\"text-align:left\"><a href=\"?request=record;id=440ABABA-0771-4DF0-BADB-800003982782;type=102\">1990.10.8</a>, Print, photographic<i> -- Found in <b>Description</b>: ... of Reliable Footwear Shoestore on H Street, <span class=\"hilite\">NE</span>.</i></td></tr><tr style=\"background-color:#f1f3f5\"><td style=\"text-align:center;vertical-align:middle\"><a href=\"javascript:var x=window.open('/31288cgi/mweb.exe?request=image&amp;hex=1993221.JPG','x1993221JPG','menubar,scrollbars,resizable,width=680,height=680')\"><img src=\"/31288images/001/thumbs/1993221.JPG\" style=\"width:61px;height:75px\" alt=\"Image of 1993.22.1, Print, Photographic\"></a></td><td style=\"text-align:left\"><a href=\"?request=record;id=1CB6B6C1-B0B7-43A8-841C-545322863881;type=102\">1993.22.1</a>, Print, Photographic<i> -- Found in <b>Description</b>: ... Food Market at 5th and E. Capitol Street, <span class=\"hilite\">NE</span>, with Yiddish newspaper the Jewish Daily Forward.</i></td></tr><tr><td style=\"text-align:center;vertical-align:middle\"><a href=\"javascript:var x=window.open('/31288cgi/mweb.exe?request=image&amp;hex=2002116.JPG','x2002116JPG','menubar,scrollbars,resizable,width=680,height=680')\"><img src=\"/31288images/001/thumbs/2002116.JPG\" style=\"width:52px;height:75px\" alt=\"Image of 2002.1.16, Print, Photographic\"></a></td><td style=\"text-align:left\"><a href=\"?request=record;id=27B96EDC-247C-4ACC-AA8C-113619169084;type=102\">2002.1.16</a>, Print, Photographic, Hais Family Collection<i> -- Found in <b>Description</b>: ... in front of DGS Market at 7th and C Street, <span class=\"hilite\">NE</span>, with mother Ida Flax Hais and another woman</i></td></tr><tr style=\"background-color:#f1f3f5\"><td style=\"text-align:center;vertical-align:middle\"><a href=\"javascript:var x=window.open('/31288cgi/mweb.exe?request=image&amp;hex=2004251.jpg','x2004251jpg','menubar,scrollbars,resizable,width=680,height=680')\"><img src=\"/31288images/001/thumbs/2004251.jpg\" style=\"width:50px;height:75px\" alt=\"Image of 2004.25.1, Print, Photographic\"></a></td><td style=\"text-align:left\"><a href=\"?request=record;id=C6506737-9E68-4B55-BD58-278911158496;type=102\">2004.25.1</a>, Print, Photographic</td></tr></tbody></table>'''\n",
    "\n",
    "\n",
    "\n",
    "NElinks = (list(PicFilter(tableNE)))\n"
   ]
  },
  {
   "cell_type": "code",
   "execution_count": 11,
   "metadata": {
    "collapsed": false
   },
   "outputs": [],
   "source": [
    "import requests \n",
    "from collections import defaultdict\n",
    "filtered = []\n",
    "def dictionarybuild(url):\n",
    "    \n",
    "# build dictionary of elements from the photo pages.  \n",
    "#broken. Need to fix the elements you split on.\n",
    "    page = requests.get(url)\n",
    "    pge = page.content\n",
    "    result = defaultdict(list)\n",
    "    p = str(pge)\n",
    "    recs = p.split(\"<td class=\\\\'fr_label\\\\' style=\\\\'vertical-align:top\\\\'>\")\n",
    "  \n",
    "  \n",
    "    for rec in recs:\n",
    "        result['url'] = str(url)\n",
    "        if \"Description\" in rec:\n",
    "            Description = rec.split(\"</td><td class=results>\")\n",
    "            result['Description'] = Description[1][:Description[1].find('<')]\n",
    "            \n",
    "        if \"Title\" in rec:\n",
    "            Title = rec.split(\"</td><td class=results>\")\n",
    "            result['Title'] = Title[1][:Title[1].find('<')]\n",
    "        \n",
    "        if \"Date\" in rec:\n",
    "            Date = rec.split(\"</td><td class=results>\")\n",
    "            result['Date'] = Date[1][:Date[1].find('<')]\n",
    "            \n",
    "                \n",
    "        if \"Place\" in rec:\n",
    "            Place = rec.split(\"</td><td class=results>\")\n",
    "            result['Place'] = Place[1][:Place[1].find('<')]\n",
    "            \n",
    "        if \"Collection\" in rec:\n",
    "            Collection = rec.split(\"</td><td class=results>\")\n",
    "            result['Collection'] = Collection[1][:Collection[1].find('<')]\n",
    "            \n",
    "    \n",
    "    filtered.append(result)\n",
    "    #print(filtered)\n",
    "\n",
    "for link in links:\n",
    "    dictionarybuild(link)"
   ]
  },
  {
   "cell_type": "code",
   "execution_count": 13,
   "metadata": {
    "collapsed": false
   },
   "outputs": [],
   "source": [
    "import googlemaps\n",
    "from collections import defaultdict\n",
    "from pprint import pprint\n",
    "NEfinal = []\n",
    "gmaps = googlemaps.Client(key='insert API key')    \n",
    "for rec in NE:\n",
    "    place = rec['Place']\n",
    "    if 'DC' not in place:\n",
    "        place = place + \"Washington, DC\"\n",
    "    geocode_result = gmaps.geocode(place)\n",
    "#extract lat long from JSON object as lat long tuple\n",
    "    latlong = geocode_result[0]['geometry']['location']['lat'], geocode_result[0]['geometry']['location']['lng']\n",
    "    rec['latlong'] = latlong\n",
    "    try: \n",
    "        partialcheck = geocode_result[0]['partial_match']\n",
    "        rec['geocheck'] = 'problematic geo. Need more specific address'\n",
    "    except:\n",
    "        rec['geocheck'] = 'this is fine'\n",
    "    NEfinal.append(rec)\n",
    "#pprint(NEfinal)"
   ]
  },
  {
   "cell_type": "code",
   "execution_count": 22,
   "metadata": {
    "collapsed": false
   },
   "outputs": [],
   "source": [
    "#concatenate notebooks\n",
    "from pandas import concat\n",
    "nonNE = pd.DataFrame.from_csv('exampleNotNEFinal.csv', encoding = \"ISO-8859-1\")\n",
    "NE = pd.DataFrame.from_csv('exampleNE.csv', encoding = \"ISO-8859-1\")\n",
    "pieces = [NE, nonNE]\n",
    "concatenated = pd.concat(pieces)"
   ]
  },
  {
   "cell_type": "code",
   "execution_count": 24,
   "metadata": {
    "collapsed": false
   },
   "outputs": [],
   "source": [
    "concatenated.to_csv('exampleNotNE.csv')"
   ]
  },
  {
   "cell_type": "code",
   "execution_count": 89,
   "metadata": {
    "collapsed": false
   },
   "outputs": [
    {
     "name": "stdout",
     "output_type": "stream",
     "text": [
      "38.8983257\n",
      "-77.01522369999999\n"
     ]
    }
   ],
   "source": [
    "#fix obviously bad geos\n",
    "place = '3rd Street NW and G Street NW, Washington, D.C.'\n",
    "\n",
    "import googlemaps\n",
    "\n",
    "from collections import defaultdict\n",
    "from pprint import pprint\n",
    "NEfinal = []\n",
    "gmaps = googlemaps.Client(key='insert API key')    \n",
    "geocode_result = gmaps.geocode(place)\n",
    "#extract lat long from JSON object as lat long tuple\n",
    "lat = geocode_result[0]['geometry']['location']['lat']\n",
    "lnng = geocode_result[0]['geometry']['location']['lng']\n",
    "print(lat)\n",
    "print(lnng)"
   ]
  },
  {
   "cell_type": "code",
   "execution_count": 91,
   "metadata": {
    "collapsed": false
   },
   "outputs": [
    {
     "data": {
      "text/plain": [
       "10.63961669975575"
      ]
     },
     "execution_count": 91,
     "metadata": {},
     "output_type": "execute_result"
    }
   ],
   "source": [
    "from math import radians, cos, sin, asin, sqrt\n",
    "\n",
    "def haversine(lon1, lat1, lon2, lat2):\n",
    "    \"\"\"\n",
    "    Calculate the great circle distance between two points \n",
    "    on the earth (specified in decimal degrees)\n",
    "    \"\"\"\n",
    "    # convert decimal degrees to radians \n",
    "    lon1, lat1, lon2, lat2 = map(radians, [lon1, lat1, lon2, lat2])\n",
    "\n",
    "    # haversine formula \n",
    "    dlon = lon2 - lon1 \n",
    "    dlat = lat2 - lat1 \n",
    "    a = sin(dlat/2)**2 + cos(lat1) * cos(lat2) * sin(dlon/2)**2\n",
    "    c = 2 * asin(sqrt(a)) \n",
    "    r = 6371 # Radius of earth in kilometers. Use 3956 for miles\n",
    "    return c * r\n",
    "\n",
    "\n",
    "capitol_lat = 38.889931 \n",
    "capitol_long = -77.009003\n",
    "haversine(lon1, lat1, capitol_long, capitol_lat)"
   ]
  },
  {
   "cell_type": "code",
   "execution_count": 94,
   "metadata": {
    "collapsed": false
   },
   "outputs": [],
   "source": [
    "\n",
    "almostfinal = pd.DataFrame.from_csv('09252016_JHSGW_fixed_almost_final.csv', encoding = \"ISO-8859-1\")\n",
    "\n",
    "all = almostfinal.to_dict('records')"
   ]
  },
  {
   "cell_type": "code",
   "execution_count": 95,
   "metadata": {
    "collapsed": false
   },
   "outputs": [
    {
     "data": {
      "text/plain": [
       "{'Place': '5404 Temple Hills Road, Temple Hills, MD',\n",
       " 'latitude': 38.812175,\n",
       " 'Title': nan,\n",
       " 'Collection': 'Congregation Shaare Tikvah',\n",
       " 'Description': nan,\n",
       " 'longitude': -76.9374,\n",
       " 'Date': '1967-2002',\n",
       " 'url': 'http://www.jhsgw.org/exhibitions/online/goldberg/photographs/congregation-shaare-tikvah?slide=5'}"
      ]
     },
     "execution_count": 95,
     "metadata": {},
     "output_type": "execute_result"
    }
   ],
   "source": [
    "all[0]"
   ]
  },
  {
   "cell_type": "code",
   "execution_count": 100,
   "metadata": {
    "collapsed": false
   },
   "outputs": [],
   "source": [
    "for rec in all:\n",
    "    rec['capitol_distance'] = haversine(rec['longitude'], rec['latitude'], capitol_long, capitol_lat)"
   ]
  },
  {
   "cell_type": "code",
   "execution_count": 103,
   "metadata": {
    "collapsed": false
   },
   "outputs": [],
   "source": [
    "final_frame = pd.DataFrame(all)"
   ]
  },
  {
   "cell_type": "code",
   "execution_count": 111,
   "metadata": {
    "collapsed": false
   },
   "outputs": [],
   "source": [
    "final_frame.to_csv('09252016final_final.csv')"
   ]
  },
  {
   "cell_type": "code",
   "execution_count": null,
   "metadata": {
    "collapsed": false
   },
   "outputs": [],
   "source": []
  }
 ],
 "metadata": {
  "kernelspec": {
   "display_name": "Python 2",
   "language": "python",
   "name": "python2"
  },
  "language_info": {
   "codemirror_mode": {
    "name": "ipython",
    "version": 2
   },
   "file_extension": ".py",
   "mimetype": "text/x-python",
   "name": "python",
   "nbconvert_exporter": "python",
   "pygments_lexer": "ipython2",
   "version": "2.7.9"
  }
 },
 "nbformat": 4,
 "nbformat_minor": 0
}
